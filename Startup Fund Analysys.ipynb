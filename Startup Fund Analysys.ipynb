{
 "cells": [
  {
   "cell_type": "code",
   "execution_count": 2,
   "id": "58e632cc",
   "metadata": {},
   "outputs": [],
   "source": [
    "import pandas as pd\n",
    "import numpy as np\n",
    "import matplotlib.pyplot as plt"
   ]
  },
  {
   "cell_type": "code",
   "execution_count": 3,
   "id": "31e1e4b7",
   "metadata": {},
   "outputs": [],
   "source": [
    "data=pd.read_csv('startup_funding.csv')\n"
   ]
  },
  {
   "cell_type": "code",
   "execution_count": 5,
   "id": "397284ce",
   "metadata": {},
   "outputs": [
    {
     "data": {
      "text/plain": [
       "0        True\n",
       "1       False\n",
       "2       False\n",
       "3       False\n",
       "4       False\n",
       "        ...  \n",
       "2367    False\n",
       "2368    False\n",
       "2369    False\n",
       "2370    False\n",
       "2371    False\n",
       "Name: CityLocation, Length: 2372, dtype: bool"
      ]
     },
     "execution_count": 5,
     "metadata": {},
     "output_type": "execute_result"
    }
   ],
   "source": [
    "data.CityLocation=='Bangalore'"
   ]
  },
  {
   "cell_type": "markdown",
   "id": "ddab07d7",
   "metadata": {},
   "source": [
    "   ## Number of funding per year\n",
    "    "
   ]
  },
  {
   "cell_type": "code",
   "execution_count": null,
   "id": "cd11db88",
   "metadata": {},
   "outputs": [],
   "source": [
    "data.iloc[2357,1]='22/01/2015'"
   ]
  },
  {
   "cell_type": "code",
   "execution_count": 7,
   "id": "f3f20fa2",
   "metadata": {},
   "outputs": [
    {
     "name": "stderr",
     "output_type": "stream",
     "text": [
      "C:\\Users\\mdrid\\AppData\\Local\\Temp\\ipykernel_1424\\1956324986.py:1: UserWarning: Parsing dates in DD/MM/YYYY format when dayfirst=False (the default) was specified. This may lead to inconsistently parsed dates! Specify a format to ensure consistent parsing.\n",
      "  x=pd.DatetimeIndex(data['Date']).year\n"
     ]
    }
   ],
   "source": [
    "x=pd.DatetimeIndex(data['Date']).year"
   ]
  },
  {
   "cell_type": "code",
   "execution_count": 8,
   "id": "b8e6f35f",
   "metadata": {},
   "outputs": [],
   "source": [
    "n=np.array(x.unique())"
   ]
  },
  {
   "cell_type": "code",
   "execution_count": 9,
   "id": "88ebfbb9",
   "metadata": {},
   "outputs": [
    {
     "data": {
      "text/plain": [
       "array([2017, 2016, 2015], dtype=int64)"
      ]
     },
     "execution_count": 9,
     "metadata": {},
     "output_type": "execute_result"
    }
   ],
   "source": [
    "n"
   ]
  },
  {
   "cell_type": "code",
   "execution_count": 10,
   "id": "18687a67",
   "metadata": {},
   "outputs": [],
   "source": [
    "y=[]\n",
    "y.append(data[x==2015].SNo.count())\n",
    "y.append(data[x==2016].SNo.count())\n",
    "y.append(data[x==2017].SNo.count())"
   ]
  },
  {
   "cell_type": "code",
   "execution_count": 11,
   "id": "3fe807f4",
   "metadata": {},
   "outputs": [],
   "source": [
    "y=np.array(y)"
   ]
  },
  {
   "cell_type": "code",
   "execution_count": 12,
   "id": "50392b74",
   "metadata": {},
   "outputs": [
    {
     "data": {
      "image/png": "[encoded data removed]",
      "text/plain": [
       "<Figure size 640x480 with 1 Axes>"
      ]
     },
     "metadata": {},
     "output_type": "display_data"
    }
   ],
   "source": [
    "plt.plot(n,y,'b',label='No. of fund')\n",
    "plt.scatter(n,y)\n",
    "plt.xlabel(\"Years\")\n",
    "plt.ylabel(\"Number of funding\")\n",
    "# plt.legend()\n",
    "plt.xticks([2015,2016,2017])\n",
    "plt.show()"
   ]
  },
  {
   "cell_type": "markdown",
   "id": "4a49b758",
   "metadata": {},
   "source": [
    "# High fund cities in India"
   ]
  },
  {
   "cell_type": "code",
   "execution_count": 42,
   "id": "d3bc18de",
   "metadata": {},
   "outputs": [],
   "source": [
    "lwp=data.copy()"
   ]
  },
  {
   "cell_type": "code",
   "execution_count": 43,
   "id": "cc2dcc75",
   "metadata": {},
   "outputs": [],
   "source": [
    "lwp.dropna(inplace=True,subset=['CityLocation'])#subset used to drop based on column"
   ]
  },
  {
   "cell_type": "code",
   "execution_count": 44,
   "id": "00e3aab9",
   "metadata": {},
   "outputs": [],
   "source": [
    "lwp.reset_index(drop=True,inplace=True)"
   ]
  },
  {
   "cell_type": "code",
   "execution_count": 12,
   "id": "5596766d",
   "metadata": {},
   "outputs": [
    {
     "data": {
      "text/html": [
       "<div>\n",
       "<style scoped>\n",
       "    .dataframe tbody tr th:only-of-type {\n",
       "        vertical-align: middle;\n",
       "    }\n",
       "\n",
       "    .dataframe tbody tr th {\n",
       "        vertical-align: top;\n",
       "    }\n",
       "\n",
       "    .dataframe thead th {\n",
       "        text-align: right;\n",
       "    }\n",
       "</style>\n",
       "<table border=\"1\" class=\"dataframe\">\n",
       "  <thead>\n",
       "    <tr style=\"text-align: right;\">\n",
       "      <th></th>\n",
       "      <th>SNo</th>\n",
       "      <th>Date</th>\n",
       "      <th>StartupName</th>\n",
       "      <th>IndustryVertical</th>\n",
       "      <th>SubVertical</th>\n",
       "      <th>CityLocation</th>\n",
       "      <th>InvestorsName</th>\n",
       "      <th>InvestmentType</th>\n",
       "      <th>AmountInUSD</th>\n",
       "      <th>Remarks</th>\n",
       "    </tr>\n",
       "  </thead>\n",
       "  <tbody>\n",
       "    <tr>\n",
       "      <th>0</th>\n",
       "      <td>0</td>\n",
       "      <td>01/08/2017</td>\n",
       "      <td>TouchKin</td>\n",
       "      <td>Technology</td>\n",
       "      <td>Predictive Care Platform</td>\n",
       "      <td>Bangalore</td>\n",
       "      <td>Kae Capital</td>\n",
       "      <td>Private Equity</td>\n",
       "      <td>1,300,000</td>\n",
       "      <td>NaN</td>\n",
       "    </tr>\n",
       "    <tr>\n",
       "      <th>1</th>\n",
       "      <td>1</td>\n",
       "      <td>02/08/2017</td>\n",
       "      <td>Ethinos</td>\n",
       "      <td>Technology</td>\n",
       "      <td>Digital Marketing Agency</td>\n",
       "      <td>Mumbai</td>\n",
       "      <td>Triton Investment Advisors</td>\n",
       "      <td>Private Equity</td>\n",
       "      <td>NaN</td>\n",
       "      <td>NaN</td>\n",
       "    </tr>\n",
       "    <tr>\n",
       "      <th>2</th>\n",
       "      <td>2</td>\n",
       "      <td>02/08/2017</td>\n",
       "      <td>Leverage Edu</td>\n",
       "      <td>Consumer Internet</td>\n",
       "      <td>Online platform for Higher Education Services</td>\n",
       "      <td>New Delhi</td>\n",
       "      <td>Kashyap Deorah, Anand Sankeshwar, Deepak Jain,...</td>\n",
       "      <td>Seed Funding</td>\n",
       "      <td>NaN</td>\n",
       "      <td>NaN</td>\n",
       "    </tr>\n",
       "    <tr>\n",
       "      <th>3</th>\n",
       "      <td>3</td>\n",
       "      <td>02/08/2017</td>\n",
       "      <td>Zepo</td>\n",
       "      <td>Consumer Internet</td>\n",
       "      <td>DIY Ecommerce platform</td>\n",
       "      <td>Mumbai</td>\n",
       "      <td>Kunal Shah, LetsVenture, Anupam Mittal, Hetal ...</td>\n",
       "      <td>Seed Funding</td>\n",
       "      <td>500,000</td>\n",
       "      <td>NaN</td>\n",
       "    </tr>\n",
       "    <tr>\n",
       "      <th>4</th>\n",
       "      <td>4</td>\n",
       "      <td>02/08/2017</td>\n",
       "      <td>Click2Clinic</td>\n",
       "      <td>Consumer Internet</td>\n",
       "      <td>healthcare service aggregator</td>\n",
       "      <td>Hyderabad</td>\n",
       "      <td>Narottam Thudi, Shireesh Palle</td>\n",
       "      <td>Seed Funding</td>\n",
       "      <td>850,000</td>\n",
       "      <td>NaN</td>\n",
       "    </tr>\n",
       "    <tr>\n",
       "      <th>...</th>\n",
       "      <td>...</td>\n",
       "      <td>...</td>\n",
       "      <td>...</td>\n",
       "      <td>...</td>\n",
       "      <td>...</td>\n",
       "      <td>...</td>\n",
       "      <td>...</td>\n",
       "      <td>...</td>\n",
       "      <td>...</td>\n",
       "      <td>...</td>\n",
       "    </tr>\n",
       "    <tr>\n",
       "      <th>2188</th>\n",
       "      <td>2196</td>\n",
       "      <td>29/04/2015</td>\n",
       "      <td>Tracxn</td>\n",
       "      <td>Startup Analytics platform</td>\n",
       "      <td>NaN</td>\n",
       "      <td>Bangalore</td>\n",
       "      <td>SAIF Partners</td>\n",
       "      <td>Private Equity</td>\n",
       "      <td>3,500,000</td>\n",
       "      <td>Series A</td>\n",
       "    </tr>\n",
       "    <tr>\n",
       "      <th>2189</th>\n",
       "      <td>2197</td>\n",
       "      <td>29/04/2015</td>\n",
       "      <td>Dazo</td>\n",
       "      <td>Mobile Food Ordering app</td>\n",
       "      <td>NaN</td>\n",
       "      <td>Bangalore</td>\n",
       "      <td>Sumit Jain, Aprameya Radhakrishna, Alok Goel, ...</td>\n",
       "      <td>Seed Funding</td>\n",
       "      <td>NaN</td>\n",
       "      <td>NaN</td>\n",
       "    </tr>\n",
       "    <tr>\n",
       "      <th>2190</th>\n",
       "      <td>2198</td>\n",
       "      <td>29/04/2015</td>\n",
       "      <td>Tradelab</td>\n",
       "      <td>Financial Markets Software</td>\n",
       "      <td>NaN</td>\n",
       "      <td>Bangalore</td>\n",
       "      <td>Rainmatter</td>\n",
       "      <td>Seed Funding</td>\n",
       "      <td>400,000</td>\n",
       "      <td>NaN</td>\n",
       "    </tr>\n",
       "    <tr>\n",
       "      <th>2191</th>\n",
       "      <td>2199</td>\n",
       "      <td>29/04/2015</td>\n",
       "      <td>PiQube</td>\n",
       "      <td>Hiring Analytics platform</td>\n",
       "      <td>NaN</td>\n",
       "      <td>Chennai</td>\n",
       "      <td>The HR Fund</td>\n",
       "      <td>Seed Funding</td>\n",
       "      <td>500,000</td>\n",
       "      <td>NaN</td>\n",
       "    </tr>\n",
       "    <tr>\n",
       "      <th>2192</th>\n",
       "      <td>2200</td>\n",
       "      <td>29/04/2015</td>\n",
       "      <td>Travel Triangle</td>\n",
       "      <td>Online Travel Marketplace</td>\n",
       "      <td>NaN</td>\n",
       "      <td>Noida</td>\n",
       "      <td>Bessemer Venture Partners, SAIF Partners</td>\n",
       "      <td>Private Equity</td>\n",
       "      <td>8,000,000</td>\n",
       "      <td>Series B</td>\n",
       "    </tr>\n",
       "  </tbody>\n",
       "</table>\n",
       "<p>2193 rows × 10 columns</p>\n",
       "</div>"
      ],
      "text/plain": [
       "       SNo        Date      StartupName            IndustryVertical  \\\n",
       "0        0  01/08/2017         TouchKin                  Technology   \n",
       "1        1  02/08/2017          Ethinos                  Technology   \n",
       "2        2  02/08/2017     Leverage Edu           Consumer Internet   \n",
       "3        3  02/08/2017             Zepo           Consumer Internet   \n",
       "4        4  02/08/2017     Click2Clinic           Consumer Internet   \n",
       "...    ...         ...              ...                         ...   \n",
       "2188  2196  29/04/2015           Tracxn  Startup Analytics platform   \n",
       "2189  2197  29/04/2015             Dazo    Mobile Food Ordering app   \n",
       "2190  2198  29/04/2015         Tradelab  Financial Markets Software   \n",
       "2191  2199  29/04/2015           PiQube   Hiring Analytics platform   \n",
       "2192  2200  29/04/2015  Travel Triangle   Online Travel Marketplace   \n",
       "\n",
       "                                        SubVertical CityLocation  \\\n",
       "0                          Predictive Care Platform    Bangalore   \n",
       "1                          Digital Marketing Agency       Mumbai   \n",
       "2     Online platform for Higher Education Services    New Delhi   \n",
       "3                            DIY Ecommerce platform       Mumbai   \n",
       "4                     healthcare service aggregator    Hyderabad   \n",
       "...                                             ...          ...   \n",
       "2188                                            NaN    Bangalore   \n",
       "2189                                            NaN    Bangalore   \n",
       "2190                                            NaN    Bangalore   \n",
       "2191                                            NaN      Chennai   \n",
       "2192                                            NaN        Noida   \n",
       "\n",
       "                                          InvestorsName  InvestmentType  \\\n",
       "0                                           Kae Capital  Private Equity   \n",
       "1                            Triton Investment Advisors  Private Equity   \n",
       "2     Kashyap Deorah, Anand Sankeshwar, Deepak Jain,...    Seed Funding   \n",
       "3     Kunal Shah, LetsVenture, Anupam Mittal, Hetal ...    Seed Funding   \n",
       "4                        Narottam Thudi, Shireesh Palle    Seed Funding   \n",
       "...                                                 ...             ...   \n",
       "2188                                      SAIF Partners  Private Equity   \n",
       "2189  Sumit Jain, Aprameya Radhakrishna, Alok Goel, ...    Seed Funding   \n",
       "2190                                         Rainmatter    Seed Funding   \n",
       "2191                                        The HR Fund    Seed Funding   \n",
       "2192           Bessemer Venture Partners, SAIF Partners  Private Equity   \n",
       "\n",
       "     AmountInUSD   Remarks  \n",
       "0      1,300,000       NaN  \n",
       "1            NaN       NaN  \n",
       "2            NaN       NaN  \n",
       "3        500,000       NaN  \n",
       "4        850,000       NaN  \n",
       "...          ...       ...  \n",
       "2188   3,500,000  Series A  \n",
       "2189         NaN       NaN  \n",
       "2190     400,000       NaN  \n",
       "2191     500,000       NaN  \n",
       "2192   8,000,000  Series B  \n",
       "\n",
       "[2193 rows x 10 columns]"
      ]
     },
     "execution_count": 12,
     "metadata": {},
     "output_type": "execute_result"
    }
   ],
   "source": []
  },
  {
   "cell_type": "code",
   "execution_count": 58,
   "id": "910bbae2",
   "metadata": {},
   "outputs": [],
   "source": [
    "def cit(city):\n",
    "    x=city.split('/')[0].strip()\n",
    "    return x\n",
    "#     return city.split('/')[0].strip"
   ]
  },
  {
   "cell_type": "code",
   "execution_count": 40,
   "id": "982a6162",
   "metadata": {},
   "outputs": [],
   "source": [
    "lwp['CityLocation'].replace(\"bangalore\", \"Bangalore\", inplace = True)\n",
    "lwp['CityLocation'].replace(\"Delhi\", \"New Delhi\", inplace = True)\n",
    "lwp['CityLocation'].replace(\"SFO / Bangalor\", \"Bangalore\", inplace = True)\n",
    "lwp['CityLocation'].replace(\"Seattle / Bangalore\", \"Bangalore\", inplace = True)"
   ]
  },
  {
   "cell_type": "code",
   "execution_count": 60,
   "id": "e90159f5",
   "metadata": {},
   "outputs": [],
   "source": [
    "lwp['CityLocation']=lwp['CityLocation'].apply(cit)"
   ]
  },
  {
   "cell_type": "code",
   "execution_count": 64,
   "id": "90bb1e1c",
   "metadata": {},
   "outputs": [
    {
     "data": {
      "text/plain": [
       "array(['Bangalore', 'Mumbai', 'New Delhi', 'Hyderabad', 'Ahmedabad',\n",
       "       'Gurgaon', 'Noida', 'Pune', 'Kolkata', 'bangalore', 'Trivandrum',\n",
       "       'Chennai', 'Chandigarh', 'Jaipur', 'Vadodara', 'Surat',\n",
       "       'Missourie', 'Panaji', 'Gwalior', 'Karur', 'Udupi', 'Kochi',\n",
       "       'Indore', 'Singapore', 'Goa', 'Agra', 'Hubli', 'Delhi', 'Kerala',\n",
       "       'Kozhikode', 'US', 'Coimbatore', 'Siliguri', 'USA', 'Lucknow',\n",
       "       'Kanpur', 'SFO', 'London', 'Seattle', 'Varanasi', 'Bhopal',\n",
       "       'Jodhpur', 'Boston', 'Belgaum', 'New York', 'Nagpur', 'India',\n",
       "       'Udaipur', 'Dallas'], dtype=object)"
      ]
     },
     "execution_count": 64,
     "metadata": {},
     "output_type": "execute_result"
    }
   ],
   "source": [
    "lwp['CityLocation'].unique()"
   ]
  },
  {
   "cell_type": "code",
   "execution_count": 69,
   "id": "3d5037e1",
   "metadata": {},
   "outputs": [],
   "source": [
    "high=lwp[(lwp.CityLocation=='Bangalore')|(lwp.CityLocation=='Noida')|(lwp.CityLocation=='Gurgaon')|(lwp.CityLocation=='Mumbai')|(lwp.CityLocation=='New Delhi')]"
   ]
  },
  {
   "cell_type": "code",
   "execution_count": 80,
   "id": "20bbe07b",
   "metadata": {},
   "outputs": [],
   "source": [
    "x=high.CityLocation.value_counts()"
   ]
  },
  {
   "cell_type": "code",
   "execution_count": 86,
   "id": "6929121b",
   "metadata": {},
   "outputs": [],
   "source": [
    "x_C=x.index\n",
    "y_c=x.values"
   ]
  },
  {
   "cell_type": "code",
   "execution_count": 92,
   "id": "2a40be0c",
   "metadata": {
    "scrolled": true
   },
   "outputs": [
    {
     "data": {
      "image/png": "[encoded data removed]",
      "text/plain": [
       "<Figure size 640x480 with 1 Axes>"
      ]
     },
     "metadata": {},
     "output_type": "display_data"
    }
   ],
   "source": [
    "plt.bar(x_C,y_c,width=0.8,color=['Red'])\n",
    "plt.xticks(rotation=40)\n",
    "plt.title(\"Bar Graph\")\n",
    "plt.xlabel(\"Cities\")\n",
    "plt.ylabel('No. of funding')\n",
    "plt.show()\n"
   ]
  },
  {
   "cell_type": "code",
   "execution_count": null,
   "id": "e67bb334",
   "metadata": {},
   "outputs": [],
   "source": []
  },
  {
   "cell_type": "markdown",
   "id": "12baf7e9",
   "metadata": {},
   "source": [
    "# Investment type Pie chart"
   ]
  },
  {
   "cell_type": "code",
   "execution_count": 96,
   "id": "c97a0108",
   "metadata": {},
   "outputs": [
    {
     "data": {
      "text/plain": [
       "array(['Private Equity', 'Seed Funding', 'Debt Funding', nan,\n",
       "       'SeedFunding', 'PrivateEquity', 'Crowd funding', 'Crowd Funding'],\n",
       "      dtype=object)"
      ]
     },
     "execution_count": 96,
     "metadata": {},
     "output_type": "execute_result"
    }
   ],
   "source": [
    "data.InvestmentType.unique()"
   ]
  },
  {
   "cell_type": "code",
   "execution_count": null,
   "id": "9800dab9",
   "metadata": {},
   "outputs": [],
   "source": []
  },
  {
   "cell_type": "code",
   "execution_count": 98,
   "id": "de878a9e",
   "metadata": {},
   "outputs": [],
   "source": [
    "new_data=data.copy()"
   ]
  },
  {
   "cell_type": "code",
   "execution_count": 100,
   "id": "c8b47e50",
   "metadata": {},
   "outputs": [],
   "source": [
    "new_data.dropna(inplace=True,subset=['InvestmentType'])"
   ]
  },
  {
   "cell_type": "code",
   "execution_count": 102,
   "id": "4376612d",
   "metadata": {},
   "outputs": [],
   "source": [
    "new_data['InvestmentType'].replace('PrivateEquity','Private Equity',inplace=True)\n",
    "new_data['InvestmentType'].replace('Crowd funding','Crowd Funding',inplace=True)\n",
    "new_data['InvestmentType'].replace('SeedFunding','Seed Funding',inplace=True)"
   ]
  },
  {
   "cell_type": "code",
   "execution_count": 136,
   "id": "bcb92777",
   "metadata": {},
   "outputs": [],
   "source": [
    "x=new_data.InvestmentType.value_counts()\n",
    "labels=np.array(x.index)\n",
    "labels[1],labels[2]=labels[2],labels[1]"
   ]
  },
  {
   "cell_type": "code",
   "execution_count": 137,
   "id": "771ff04a",
   "metadata": {},
   "outputs": [
    {
     "data": {
      "text/plain": [
       "array([1301,    1,    2, 1067], dtype=int64)"
      ]
     },
     "execution_count": 137,
     "metadata": {},
     "output_type": "execute_result"
    }
   ],
   "source": [
    "d"
   ]
  },
  {
   "cell_type": "code",
   "execution_count": 138,
   "id": "b7685d0a",
   "metadata": {},
   "outputs": [
    {
     "data": {
      "text/plain": [
       "array([1301, 1067,    2,    1], dtype=int64)"
      ]
     },
     "execution_count": 138,
     "metadata": {},
     "output_type": "execute_result"
    }
   ],
   "source": [
    "x.values"
   ]
  },
  {
   "cell_type": "code",
   "execution_count": 139,
   "id": "5203756e",
   "metadata": {},
   "outputs": [],
   "source": [
    "d=np.array(x.values)\n",
    "d[1],d[2]=d[2],d[1]"
   ]
  },
  {
   "cell_type": "code",
   "execution_count": 150,
   "id": "4374e326",
   "metadata": {},
   "outputs": [
    {
     "data": {
      "image/png": "[encoded data removed]",
      "text/plain": [
       "<Figure size 640x480 with 1 Axes>"
      ]
     },
     "metadata": {},
     "output_type": "display_data"
    }
   ],
   "source": [
    "plt.pie(d,labels=labels,autopct=\"%.2f%%\",startangle=90,explode=[0,0,0,0])\n",
    "plt.title(\"Pie Chart\")\n",
    "plt.show()"
   ]
  }
 ],
 "metadata": {
  "kernelspec": {
   "display_name": "Python 3 (ipykernel)",
   "language": "python",
   "name": "python3"
  },
  "language_info": {
   "codemirror_mode": {
    "name": "ipython",
    "version": 3
   },
   "file_extension": ".py",
   "mimetype": "text/x-python",
   "name": "python",
   "nbconvert_exporter": "python",
   "pygments_lexer": "ipython3",
   "version": "3.10.7"
  }
 },
 "nbformat": 4,
 "nbformat_minor": 5
}
